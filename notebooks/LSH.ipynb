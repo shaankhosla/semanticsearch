{
 "cells": [
  {
   "cell_type": "code",
   "execution_count": 1,
   "metadata": {
    "id": "EkcnqMr7crU7"
   },
   "outputs": [],
   "source": [
    "import numpy as np\n",
    "from sklearn.random_projection import SparseRandomProjection\n",
    "from sklearn.metrics.pairwise import cosine_similarity"
   ]
  },
  {
   "cell_type": "code",
   "execution_count": 2,
   "metadata": {
    "colab": {
     "base_uri": "https://localhost:8080/"
    },
    "id": "rVo11ZgscuIJ",
    "outputId": "0d5a458d-da4d-406a-c76e-411f0cca6025"
   },
   "outputs": [
    {
     "name": "stdout",
     "output_type": "stream",
     "text": [
      "Vector 0: [ 0.49671415 -0.1382643   0.64768854  1.52302986 -0.23415337]... Hash: 100\n",
      "Vector 1: [-1.41537074 -0.42064532 -0.34271452 -0.80227727 -0.16128571]... Hash: 001\n",
      "Vector 2: [ 0.35778736  0.56078453  1.08305124  1.05380205 -1.37766937]... Hash: 110\n",
      "Vector 3: [-0.82899501 -0.56018104  0.74729361  0.61037027 -0.02090159]... Hash: 111\n",
      "Vector 4: [-1.59442766 -0.59937502  0.0052437   0.04698059 -0.45006547]... Hash: 100\n",
      "Vector 5: [ 0.92617755  1.90941664 -1.39856757  0.56296924 -0.65064257]... Hash: 110\n",
      "Vector 6: [ 0.75698862 -0.92216532  0.86960592  1.35563786  0.4134349 ]... Hash: 001\n",
      "Vector 7: [-0.52272302  1.04900923 -0.70434369 -1.4084613  -1.55662917]... Hash: 111\n",
      "Vector 8: [ 0.93828381 -0.51604473  0.09612078 -0.46227529 -0.43449623]... Hash: 001\n",
      "Vector 9: [ 0.36867331 -0.39333881  0.02874482  1.27845186  0.19109907]... Hash: 001\n",
      "\n",
      "Example of similarity in hashes:\n",
      "Vector 0 hash: 100\n",
      "Vector 1 hash: 001\n"
     ]
    }
   ],
   "source": [
    "# Set parameters\n",
    "n_samples = 10\n",
    "n_features = 100\n",
    "n_components = 3  # lower dimension for LSH projection\n",
    "\n",
    "# Create random high-dimensional data\n",
    "np.random.seed(42)\n",
    "data = np.random.randn(n_samples, n_features)\n",
    "\n",
    "# Implement LSH using random projection\n",
    "lsh = SparseRandomProjection(n_components=n_components, random_state=42)\n",
    "lsh.fit(data)\n",
    "\n",
    "\n",
    "# Hash function: simply binarize the projected data\n",
    "def hash_vector(v):\n",
    "    projection = lsh.transform(v.reshape(1, -1))\n",
    "    binary_hash = (projection > 0).astype(int).flatten()\n",
    "    return \"\".join(binary_hash.astype(str))\n",
    "\n",
    "\n",
    "# Hash each vector\n",
    "hashes = [hash_vector(d) for d in data]\n",
    "\n",
    "# Show the original vectors and their hashes\n",
    "for i, (vec, hsh) in enumerate(zip(data, hashes)):\n",
    "    print(f\"Vector {i}: {vec[:5]}... Hash: {hsh}\")\n",
    "\n",
    "# Demonstrating similarity in hashes for similar vectors\n",
    "print(\"\\nExample of similarity in hashes:\")\n",
    "print(f\"Vector 0 hash: {hashes[0]}\")\n",
    "print(f\"Vector 1 hash: {hashes[1]}\")  # Assuming Vector 1 is similar to Vector 0"
   ]
  },
  {
   "cell_type": "code",
   "execution_count": 4,
   "metadata": {
    "colab": {
     "base_uri": "https://localhost:8080/"
    },
    "id": "ivEMmN_1cvNS",
    "outputId": "93c59ac1-7b9a-4ee4-c9bf-a6c0b57f7879"
   },
   "outputs": [
    {
     "name": "stdout",
     "output_type": "stream",
     "text": [
      "Number of calculations for naive cosine similarity: 45\n",
      "Number of calculations for LSH cosine similarity: 9\n"
     ]
    }
   ],
   "source": [
    "# Function to calculate cosine similarity for all pairs\n",
    "def compute_all_cosine_similarities(data):\n",
    "    n = len(data)\n",
    "    count = 0\n",
    "    for i in range(n):\n",
    "        for j in range(i + 1, n):\n",
    "            cosine_similarity(data[i].reshape(1, -1), data[j].reshape(1, -1))\n",
    "            count += 1\n",
    "    return count\n",
    "\n",
    "\n",
    "# Function to calculate cosine similarities using LSH\n",
    "def compute_lsh_cosine_similarities(data, hashes):\n",
    "    unique_hashes = set(hashes)\n",
    "    count = 0\n",
    "    for h in unique_hashes:\n",
    "        indices = [\n",
    "            i for i, hash in enumerate(hashes) if hash == h\n",
    "        ]  # find subset with identical hash\n",
    "        for i in range(len(indices)):\n",
    "            for j in range(i + 1, len(indices)):\n",
    "                cosine_similarity(\n",
    "                    data[indices[i]].reshape(1, -1), data[indices[j]].reshape(1, -1)\n",
    "                )\n",
    "                count += 1\n",
    "    return count\n",
    "\n",
    "\n",
    "# Calculating cosine similarities for all pairs\n",
    "all_cosine_calculations = compute_all_cosine_similarities(data)\n",
    "\n",
    "# Calculating cosine similarities using LSH\n",
    "lsh_cosine_calculations = compute_lsh_cosine_similarities(data, hashes)\n",
    "\n",
    "print(\"Number of calculations for naive cosine similarity:\", all_cosine_calculations)\n",
    "print(\"Number of calculations for LSH cosine similarity:\", lsh_cosine_calculations)"
   ]
  },
  {
   "cell_type": "code",
   "execution_count": 3,
   "metadata": {
    "id": "rhWorUQ8dbkt"
   },
   "outputs": [],
   "source": []
  }
 ],
 "metadata": {
  "colab": {
   "provenance": []
  },
  "kernelspec": {
   "display_name": "Python 3",
   "name": "python3"
  },
  "language_info": {
   "name": "python"
  }
 },
 "nbformat": 4,
 "nbformat_minor": 0
}
