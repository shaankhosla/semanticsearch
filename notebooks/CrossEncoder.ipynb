{
 "cells": [
  {
   "cell_type": "code",
   "execution_count": 17,
   "metadata": {},
   "outputs": [
    {
     "name": "stdout",
     "output_type": "stream",
     "text": [
      "huggingface/tokenizers: The current process just got forked, after parallelism has already been used. Disabling parallelism to avoid deadlocks...\n",
      "To disable this warning, you can either:\n",
      "\t- Avoid using `tokenizers` before the fork if possible\n",
      "\t- Explicitly set the environment variable TOKENIZERS_PARALLELISM=(true | false)\n"
     ]
    }
   ],
   "source": [
    "%pip3 install sentence_transformers\n",
    "from sentence_transformers import CrossEncoder, SentenceTransformer\n",
    "import numpy as np"
   ]
  },
  {
   "cell_type": "code",
   "execution_count": 35,
   "metadata": {},
   "outputs": [],
   "source": [
    "# Function to calculate cosine similarity\n",
    "def cosine_similarity(v1, v2):\n",
    "    return np.dot(v1, v2) / (np.linalg.norm(v1) * np.linalg.norm(v2))\n",
    "\n",
    "\n",
    "cross_model = CrossEncoder(\"cross-encoder/ms-marco-MiniLM-L-12-v2\")\n",
    "embedding_model = SentenceTransformer(\"all-MiniLM-L6-v2\")"
   ]
  },
  {
   "cell_type": "code",
   "execution_count": 71,
   "metadata": {},
   "outputs": [],
   "source": [
    "query = \"How many people live in Berlin?\"\n",
    "\n",
    "answers = [\n",
    "    \"Berlin has a population of 3,520,031 registered inhabitants in an area of 891.82 square kilometers.\",\n",
    "    \"In 2020, the population of Germany's capital city surpassed 3.5 million.\",\n",
    "    \"How many people live in Berlin? No clue\",\n",
    "    \"I visited Berlin last year; it seemed very crowded. Lots of people\",\n",
    "    \"Berlin, the capital of Germany, is known for its cultural landmarks and modern architecture.\",\n",
    "]"
   ]
  },
  {
   "cell_type": "code",
   "execution_count": 72,
   "metadata": {},
   "outputs": [
    {
     "name": "stdout",
     "output_type": "stream",
     "text": [
      "[ 9.45056    3.864248   5.0489845  0.7831076 -2.8231   ]\n"
     ]
    },
    {
     "data": {
      "text/plain": [
       "'Berlin has a population of 3,520,031 registered inhabitants in an area of 891.82 square kilometers.'"
      ]
     },
     "execution_count": 72,
     "metadata": {},
     "output_type": "execute_result"
    }
   ],
   "source": [
    "scores = cross_model.predict(\n",
    "    [\n",
    "        (query, answers[0]),\n",
    "        (query, answers[1]),\n",
    "        (query, answers[2]),\n",
    "        (query, answers[3]),\n",
    "        (query, answers[4]),\n",
    "    ]\n",
    ")\n",
    "print(scores)\n",
    "answers[np.argmax(scores)]"
   ]
  },
  {
   "cell_type": "code",
   "execution_count": 73,
   "metadata": {},
   "outputs": [
    {
     "name": "stdout",
     "output_type": "stream",
     "text": [
      "[0.7669752, 0.58824676, 0.9664755, 0.78439665, 0.508114]\n"
     ]
    },
    {
     "data": {
      "text/plain": [
       "'How many people live in Berlin? No clue'"
      ]
     },
     "execution_count": 73,
     "metadata": {},
     "output_type": "execute_result"
    }
   ],
   "source": [
    "answer_embeddings = embedding_model.encode(answers)\n",
    "query_embedding = embedding_model.encode([query])[0]\n",
    "scores = [cosine_similarity(query_embedding, e) for e in answer_embeddings]\n",
    "print(scores)\n",
    "answers[np.argmax(scores)]"
   ]
  },
  {
   "cell_type": "code",
   "execution_count": null,
   "metadata": {},
   "outputs": [],
   "source": []
  }
 ],
 "metadata": {
  "kernelspec": {
   "display_name": "Python 3",
   "language": "python",
   "name": "python3"
  },
  "language_info": {
   "codemirror_mode": {
    "name": "ipython",
    "version": 3
   },
   "file_extension": ".py",
   "mimetype": "text/x-python",
   "name": "python",
   "nbconvert_exporter": "python",
   "pygments_lexer": "ipython3",
   "version": "3.11.5"
  }
 },
 "nbformat": 4,
 "nbformat_minor": 2
}
