{
 "cells": [
  {
   "cell_type": "code",
   "execution_count": 2,
   "metadata": {
    "id": "q8bSqIVYUm5P"
   },
   "outputs": [],
   "source": [
    "%pip3 install lancedb sentence_transformers\n",
    "import requests\n",
    "from sentence_transformers import SentenceTransformer\n",
    "import lancedb\n",
    "import numpy as np"
   ]
  },
  {
   "cell_type": "code",
   "execution_count": 3,
   "metadata": {
    "id": "oMgW-Aukge6l"
   },
   "outputs": [],
   "source": [
    "# Function to normalize a vector\n",
    "def normalize_vector(v):\n",
    "    norm = np.linalg.norm(v)\n",
    "    if norm == 0:\n",
    "        return v\n",
    "    return v / norm\n",
    "\n",
    "\n",
    "# Function to calculate cosine similarity\n",
    "def cosine_similarity(v1, v2):\n",
    "    return np.dot(v1, v2) / (np.linalg.norm(v1) * np.linalg.norm(v2))\n",
    "\n",
    "\n",
    "# Generate random vectors\n",
    "np.random.seed(0)\n",
    "vector1 = np.random.rand(1000)\n",
    "vector2 = np.random.rand(1000)\n",
    "\n",
    "# Normalize the vectors\n",
    "norm_vector1 = normalize_vector(vector1)\n",
    "norm_vector2 = normalize_vector(vector2)"
   ]
  },
  {
   "cell_type": "code",
   "execution_count": 4,
   "metadata": {
    "colab": {
     "base_uri": "https://localhost:8080/"
    },
    "executionInfo": {
     "elapsed": 2,
     "status": "ok",
     "timestamp": 1702527145688,
     "user": {
      "displayName": "Shaan Khosla",
      "userId": "03281704052357658651"
     },
     "user_tz": 300
    },
    "id": "pBTnhcg0g4bq",
    "outputId": "c6f5e905-fbb0-4662-9d0a-1f9e37c3a060"
   },
   "outputs": [
    {
     "name": "stdout",
     "output_type": "stream",
     "text": [
      "CPU times: user 58 µs, sys: 23 µs, total: 81 µs\n",
      "Wall time: 83.2 µs\n"
     ]
    }
   ],
   "source": [
    "%time score = cosine_similarity(vector1, vector2)"
   ]
  },
  {
   "cell_type": "code",
   "execution_count": 5,
   "metadata": {
    "colab": {
     "base_uri": "https://localhost:8080/"
    },
    "executionInfo": {
     "elapsed": 2,
     "status": "ok",
     "timestamp": 1702527146028,
     "user": {
      "displayName": "Shaan Khosla",
      "userId": "03281704052357658651"
     },
     "user_tz": 300
    },
    "id": "xAiOQFgqg0ML",
    "outputId": "1cbe8493-b390-46d1-c8c6-637b22e5b6d4"
   },
   "outputs": [
    {
     "name": "stdout",
     "output_type": "stream",
     "text": [
      "CPU times: user 21 µs, sys: 11 µs, total: 32 µs\n",
      "Wall time: 36 µs\n"
     ]
    }
   ],
   "source": [
    "%time score = np.dot(norm_vector1, norm_vector2)"
   ]
  },
  {
   "cell_type": "code",
   "execution_count": 6,
   "metadata": {
    "colab": {
     "base_uri": "https://localhost:8080/"
    },
    "executionInfo": {
     "elapsed": 4756,
     "status": "ok",
     "timestamp": 1702526369169,
     "user": {
      "displayName": "Shaan Khosla",
      "userId": "03281704052357658651"
     },
     "user_tz": 300
    },
    "id": "dA9YdqX1Uy3O",
    "outputId": "f9dfcde2-7bdf-4f8d-d5d7-ee2c04d49fe8"
   },
   "outputs": [
    {
     "data": {
      "text/plain": [
       "(25153, 1324)"
      ]
     },
     "execution_count": 6,
     "metadata": {},
     "output_type": "execute_result"
    }
   ],
   "source": [
    "# URL of a book from Project Gutenberg\n",
    "# Using \"Pride and Prejudice\" and \"The Inverted Pyramid\" as an example\n",
    "text = \"\"\n",
    "for url in [\n",
    "    \"https://www.gutenberg.org/cache/epub/72392/pg72392.txt\",\n",
    "    \"http://www.gutenberg.org/files/1342/1342-0.txt\",\n",
    "]:\n",
    "    # Attempting to download the book\n",
    "    try:\n",
    "        response = requests.get(url)\n",
    "        response.raise_for_status()  # will raise an HTTPError if the HTTP request returned an unsuccessful status code\n",
    "        book_text = response.text\n",
    "    except requests.exceptions.RequestException:\n",
    "        continue\n",
    "\n",
    "    text += book_text\n",
    "\n",
    "sentences = text.split(\"\\n\")\n",
    "split_index = int(len(sentences) * 0.95)\n",
    "\n",
    "# Splitting the list\n",
    "index_sentences = sentences[:split_index]\n",
    "search_sentences = sentences[split_index:]\n",
    "\n",
    "len(index_sentences), len(search_sentences)"
   ]
  },
  {
   "cell_type": "code",
   "execution_count": 7,
   "metadata": {
    "id": "8JZbOD8eV3r-"
   },
   "outputs": [],
   "source": [
    "embedding_model = SentenceTransformer(\"multi-qa-mpnet-base-dot-v1\")"
   ]
  },
  {
   "cell_type": "code",
   "execution_count": 8,
   "metadata": {
    "colab": {
     "base_uri": "https://localhost:8080/"
    },
    "executionInfo": {
     "elapsed": 10691,
     "status": "ok",
     "timestamp": 1702526424175,
     "user": {
      "displayName": "Shaan Khosla",
      "userId": "03281704052357658651"
     },
     "user_tz": 300
    },
    "id": "cctwWW56VqfA",
    "outputId": "f5e4538f-79e8-4afa-a0a1-de925f46ca3e"
   },
   "outputs": [
    {
     "name": "stderr",
     "output_type": "stream",
     "text": [
      "Batches: 100%|██████████| 787/787 [02:02<00:00,  6.43it/s]\n",
      "Batches: 100%|██████████| 42/42 [00:06<00:00,  6.56it/s]"
     ]
    },
    {
     "name": "stdout",
     "output_type": "stream",
     "text": [
      "CPU times: user 3min 36s, sys: 1min 1s, total: 4min 38s\n",
      "Wall time: 2min 9s\n"
     ]
    },
    {
     "name": "stderr",
     "output_type": "stream",
     "text": [
      "\n"
     ]
    }
   ],
   "source": [
    "index_vecs = embedding_model.encode(\n",
    "    sentences=index_sentences,\n",
    "    normalize_embeddings=False,\n",
    "    convert_to_numpy=True,\n",
    "    show_progress_bar=True,\n",
    ")\n",
    "search_vecs = embedding_model.encode(\n",
    "    sentences=search_sentences,\n",
    "    normalize_embeddings=False,\n",
    "    convert_to_numpy=True,\n",
    "    show_progress_bar=True,\n",
    ")"
   ]
  },
  {
   "cell_type": "code",
   "execution_count": 9,
   "metadata": {},
   "outputs": [
    {
     "data": {
      "text/plain": [
       "6.1352563"
      ]
     },
     "execution_count": 9,
     "metadata": {},
     "output_type": "execute_result"
    }
   ],
   "source": [
    "np.linalg.norm(index_vecs[0])"
   ]
  },
  {
   "cell_type": "code",
   "execution_count": 10,
   "metadata": {
    "colab": {
     "base_uri": "https://localhost:8080/"
    },
    "executionInfo": {
     "elapsed": 9617,
     "status": "ok",
     "timestamp": 1702526433791,
     "user": {
      "displayName": "Shaan Khosla",
      "userId": "03281704052357658651"
     },
     "user_tz": 300
    },
    "id": "lIpm_MUiW2cE",
    "outputId": "fca761c5-7dc5-46bd-cb9f-bd762fe545cd"
   },
   "outputs": [
    {
     "name": "stderr",
     "output_type": "stream",
     "text": [
      "Batches: 100%|██████████| 787/787 [02:05<00:00,  6.27it/s]\n",
      "Batches: 100%|██████████| 42/42 [00:06<00:00,  6.48it/s]"
     ]
    },
    {
     "name": "stdout",
     "output_type": "stream",
     "text": [
      "CPU times: user 3min 37s, sys: 1min 3s, total: 4min 40s\n",
      "Wall time: 2min 12s\n"
     ]
    },
    {
     "name": "stderr",
     "output_type": "stream",
     "text": [
      "\n"
     ]
    }
   ],
   "source": [
    "index_vecs_norm = embedding_model.encode(\n",
    "    sentences=index_sentences,\n",
    "    normalize_embeddings=True,\n",
    "    convert_to_numpy=True,\n",
    "    show_progress_bar=True,\n",
    ")\n",
    "search_vecs_norm = embedding_model.encode(\n",
    "    sentences=search_sentences,\n",
    "    normalize_embeddings=True,\n",
    "    convert_to_numpy=True,\n",
    "    show_progress_bar=True,\n",
    ")"
   ]
  },
  {
   "cell_type": "code",
   "execution_count": 17,
   "metadata": {},
   "outputs": [
    {
     "data": {
      "text/plain": [
       "0.99999994"
      ]
     },
     "execution_count": 17,
     "metadata": {},
     "output_type": "execute_result"
    }
   ],
   "source": [
    "np.linalg.norm(index_vecs_norm[0])"
   ]
  },
  {
   "cell_type": "code",
   "execution_count": 18,
   "metadata": {
    "colab": {
     "base_uri": "https://localhost:8080/"
    },
    "executionInfo": {
     "elapsed": 4,
     "status": "ok",
     "timestamp": 1702526434633,
     "user": {
      "displayName": "Shaan Khosla",
      "userId": "03281704052357658651"
     },
     "user_tz": 300
    },
    "id": "4eZrFP89buvb",
    "outputId": "258170ef-6c21-4160-9093-94dc2bbc8fee"
   },
   "outputs": [
    {
     "name": "stdout",
     "output_type": "stream",
     "text": [
      "(25153, 768) (25153, 768)\n"
     ]
    }
   ],
   "source": [
    "print(index_vecs.shape, index_vecs_norm.shape)"
   ]
  },
  {
   "cell_type": "code",
   "execution_count": 19,
   "metadata": {
    "id": "KB4CvnEJZgJX"
   },
   "outputs": [
    {
     "name": "stdout",
     "output_type": "stream",
     "text": [
      "huggingface/tokenizers: The current process just got forked, after parallelism has already been used. Disabling parallelism to avoid deadlocks...\n",
      "To disable this warning, you can either:\n",
      "\t- Avoid using `tokenizers` before the fork if possible\n",
      "\t- Explicitly set the environment variable TOKENIZERS_PARALLELISM=(true | false)\n"
     ]
    }
   ],
   "source": [
    "%rm -rf data/"
   ]
  },
  {
   "cell_type": "code",
   "execution_count": 20,
   "metadata": {
    "id": "6l_E9lI4WRWJ"
   },
   "outputs": [],
   "source": [
    "uri = \"data/table\"\n",
    "tbl = lancedb.connect(uri).create_table(\n",
    "    \"table\", data=[{\"vector\": v} for v in index_vecs]\n",
    ")\n",
    "\n",
    "uri = \"data/table_normalized\"\n",
    "tbl_norm = lancedb.connect(uri).create_table(\n",
    "    \"table\", data=[{\"vector\": v} for v in index_vecs_norm]\n",
    ")"
   ]
  },
  {
   "cell_type": "code",
   "execution_count": 32,
   "metadata": {},
   "outputs": [
    {
     "name": "stdout",
     "output_type": "stream",
     "text": [
      "20.1 ms ± 607 µs per loop (mean ± std. dev. of 7 runs, 50 loops each)\n"
     ]
    }
   ],
   "source": [
    "random_vec = search_vecs_norm[np.random.randint(search_vecs_norm.shape[0])]\n",
    "%timeit -n 50 tbl_norm.search(random_vec).metric(\"dot\").limit(10).to_df()"
   ]
  },
  {
   "cell_type": "code",
   "execution_count": 33,
   "metadata": {
    "colab": {
     "base_uri": "https://localhost:8080/"
    },
    "executionInfo": {
     "elapsed": 17911,
     "status": "ok",
     "timestamp": 1702527319891,
     "user": {
      "displayName": "Shaan Khosla",
      "userId": "03281704052357658651"
     },
     "user_tz": 300
    },
    "id": "RPqtilVvXDT9",
    "outputId": "5efa5ac3-7edc-4d7a-bc13-6314014f6a3e"
   },
   "outputs": [
    {
     "name": "stdout",
     "output_type": "stream",
     "text": [
      "16.2 ms ± 410 µs per loop (mean ± std. dev. of 7 runs, 50 loops each)\n"
     ]
    }
   ],
   "source": [
    "random_vec = search_vecs[np.random.randint(search_vecs.shape[0])]\n",
    "%timeit -n 50 tbl.search(random_vec).metric(\"cosine\").limit(10).to_df()"
   ]
  }
 ],
 "metadata": {
  "accelerator": "GPU",
  "colab": {
   "authorship_tag": "ABX9TyPlShd3rN4IrNOieDRJ4lSN",
   "gpuType": "T4",
   "provenance": []
  },
  "kernelspec": {
   "display_name": "Python 3",
   "name": "python3"
  },
  "language_info": {
   "codemirror_mode": {
    "name": "ipython",
    "version": 3
   },
   "file_extension": ".py",
   "mimetype": "text/x-python",
   "name": "python",
   "nbconvert_exporter": "python",
   "pygments_lexer": "ipython3",
   "version": "3.11.5"
  }
 },
 "nbformat": 4,
 "nbformat_minor": 0
}
