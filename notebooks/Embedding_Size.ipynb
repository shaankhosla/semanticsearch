{
 "cells": [
  {
   "cell_type": "markdown",
   "metadata": {},
   "source": [
    "<a target=\"_blank\" href=\"https://colab.research.google.com/github/shaankhosla/semanticsearch/blob/main/notebooks/Embedding_Size.ipynb\">\n",
    "  <img src=\"https://colab.research.google.com/assets/colab-badge.svg\" alt=\"Open In Colab\"/>\n",
    "</a>\n"
   ]
  },
  {
   "cell_type": "code",
   "execution_count": 4,
   "metadata": {
    "id": "uQAMl19YPbrH"
   },
   "outputs": [],
   "source": [
    "%%capture\n",
    "\n",
    "%pip install sentence_transformers\n",
    "import numpy as np\n",
    "from time import time\n",
    "from sklearn.metrics.pairwise import cosine_similarity\n",
    "from sentence_transformers import SentenceTransformer\n",
    "import nltk\n",
    "nltk.download(\"brown\")\n",
    "from nltk.corpus import brown"
   ]
  },
  {
   "cell_type": "code",
   "execution_count": 7,
   "metadata": {
    "id": "4rVid81PPgCI"
   },
   "outputs": [],
   "source": [
    "# Data preparation\n",
    "sentences = [\" \".join(sent) for sent in brown.sents()][:2000]"
   ]
  },
  {
   "cell_type": "code",
   "execution_count": 8,
   "metadata": {
    "colab": {
     "base_uri": "https://localhost:8080/",
     "height": 49,
     "referenced_widgets": [
      "a4c9d1c29e5746cc9a4424800c98ecaf",
      "35e46eb78ebf4577b2d3d3928381a98b",
      "a09a705ef7f745cc830e42ce96307d3d",
      "0b48227019854b5da41e2195448e78b8",
      "053133cecba64a29aa69b11fb34a8cda",
      "2011e7b2cf0847d9848fddfa7e45879a",
      "233ceb28aa574caf87f41817f614391e",
      "dbe5483e94ed4905a52bc24a6bbb1afb",
      "6fc42b501d7f4638a3a7827530a3633d",
      "c42cf9c9f04f4031b8e828c478c6de5c",
      "0ae53454920d48b3b5cf408928de0999"
     ]
    },
    "id": "L-jWeq5JRGBa",
    "outputId": "7fcd4c80-f2be-4775-80c9-6191bc421707"
   },
   "outputs": [
    {
     "data": {
      "application/vnd.jupyter.widget-view+json": {
       "model_id": "a4c9d1c29e5746cc9a4424800c98ecaf",
       "version_major": 2,
       "version_minor": 0
      },
      "text/plain": [
       "Batches:   0%|          | 0/63 [00:00<?, ?it/s]"
      ]
     },
     "metadata": {},
     "output_type": "display_data"
    }
   ],
   "source": [
    "embedding_model = SentenceTransformer(\"all-mpnet-base-v2\")\n",
    "embeddings = embedding_model.encode(\n",
    "    sentences=sentences, convert_to_numpy=True, show_progress_bar=True\n",
    ")\n",
    "query_embedding, index_embeddings = embeddings[0], embeddings[1:]"
   ]
  },
  {
   "cell_type": "code",
   "execution_count": 9,
   "metadata": {
    "colab": {
     "base_uri": "https://localhost:8080/"
    },
    "id": "0NlcPJW9SWyt",
    "outputId": "494ac016-c6b3-47dc-ec35-9420a56dfdd5"
   },
   "outputs": [
    {
     "name": "stdout",
     "output_type": "stream",
     "text": [
      "(768,) (1999, 768)\n"
     ]
    }
   ],
   "source": [
    "print(query_embedding.shape, index_embeddings.shape)"
   ]
  },
  {
   "cell_type": "code",
   "execution_count": 10,
   "metadata": {
    "id": "cATWzvNcPeF6"
   },
   "outputs": [],
   "source": [
    "# Semantic search function\n",
    "\n",
    "\n",
    "def semantic_search(query_embedding, embeddings):\n",
    "    similarities = cosine_similarity([query_embedding], embeddings)\n",
    "    return np.argsort(-similarities[0])"
   ]
  },
  {
   "cell_type": "code",
   "execution_count": 11,
   "metadata": {
    "colab": {
     "base_uri": "https://localhost:8080/"
    },
    "id": "1dLGNq9CPiXF",
    "outputId": "e9099c6d-ed93-45bd-cd72-3c80c2e57a33"
   },
   "outputs": [
    {
     "name": "stdout",
     "output_type": "stream",
     "text": [
      "Embedding Size: 25, Time taken: 0.0012 seconds\n",
      "\n",
      "Embedding Size: 50, Time taken: 0.0013 seconds\n",
      "\n",
      "Embedding Size: 75, Time taken: 0.0016 seconds\n",
      "\n",
      "Embedding Size: 100, Time taken: 0.0017 seconds\n",
      "\n",
      "Embedding Size: 125, Time taken: 0.0019 seconds\n",
      "\n",
      "Embedding Size: 150, Time taken: 0.0021 seconds\n",
      "\n",
      "Embedding Size: 175, Time taken: 0.0034 seconds\n",
      "\n",
      "Embedding Size: 200, Time taken: 0.0048 seconds\n",
      "\n",
      "Embedding Size: 225, Time taken: 0.0052 seconds\n",
      "\n",
      "Embedding Size: 250, Time taken: 0.0044 seconds\n",
      "\n",
      "Embedding Size: 275, Time taken: 0.0030 seconds\n",
      "\n",
      "Embedding Size: 300, Time taken: 0.0031 seconds\n",
      "\n",
      "Embedding Size: 325, Time taken: 0.0033 seconds\n",
      "\n",
      "Embedding Size: 350, Time taken: 0.0034 seconds\n",
      "\n",
      "Embedding Size: 375, Time taken: 0.0037 seconds\n",
      "\n",
      "Embedding Size: 400, Time taken: 0.0052 seconds\n",
      "\n",
      "Embedding Size: 425, Time taken: 0.0073 seconds\n",
      "\n",
      "Embedding Size: 450, Time taken: 0.0044 seconds\n",
      "\n",
      "Embedding Size: 475, Time taken: 0.0048 seconds\n",
      "\n",
      "Embedding Size: 500, Time taken: 0.0047 seconds\n",
      "\n",
      "Embedding Size: 525, Time taken: 0.0071 seconds\n",
      "\n",
      "Embedding Size: 550, Time taken: 0.0079 seconds\n",
      "\n",
      "Embedding Size: 575, Time taken: 0.0049 seconds\n",
      "\n",
      "Embedding Size: 600, Time taken: 0.0050 seconds\n",
      "\n",
      "Embedding Size: 625, Time taken: 0.0050 seconds\n",
      "\n",
      "Embedding Size: 650, Time taken: 0.0081 seconds\n",
      "\n",
      "Embedding Size: 675, Time taken: 0.0074 seconds\n",
      "\n",
      "Embedding Size: 700, Time taken: 0.0061 seconds\n",
      "\n",
      "Embedding Size: 725, Time taken: 0.0062 seconds\n",
      "\n",
      "Embedding Size: 750, Time taken: 0.0102 seconds\n",
      "\n"
     ]
    }
   ],
   "source": [
    "embedding_sizes = list(range(25, query_embedding.shape[0], 25))\n",
    "times = []\n",
    "n_repeat = 500\n",
    "\n",
    "for size in embedding_sizes:\n",
    "    # Generate embeddings\n",
    "    query_embedding_reduced = query_embedding[:size]\n",
    "\n",
    "    # Reduce the dimension of the query embedding to match the current size\n",
    "    index_embeddings_reduced = index_embeddings[:, :size]\n",
    "\n",
    "    # Perform semantic search and measure time\n",
    "    start_time = time()\n",
    "    for i in range(n_repeat):\n",
    "        semantic_search(query_embedding_reduced, index_embeddings_reduced)\n",
    "    end_time = time()\n",
    "\n",
    "    time_taken = (end_time - start_time) / n_repeat\n",
    "    print(f\"Embedding Size: {size}, Time taken: {time_taken:.4f} seconds\\n\")\n",
    "    times.append(time_taken)"
   ]
  },
  {
   "cell_type": "code",
   "execution_count": 12,
   "metadata": {
    "colab": {
     "base_uri": "https://localhost:8080/",
     "height": 564
    },
    "id": "F_49QPPiTAe-",
    "outputId": "89967342-53a6-4ef1-df8e-a09d4202ca17"
   },
   "outputs": [
    {
     "data": {
      "image/png": "[encoded data removed]",
      "text/plain": [
       "<Figure size 1000x600 with 1 Axes>"
      ]
     },
     "metadata": {},
     "output_type": "display_data"
    }
   ],
   "source": [
    "import matplotlib.pyplot as plt\n",
    "\n",
    "plt.figure(figsize=(10, 6))\n",
    "plt.plot(embedding_sizes, times, marker=\"o\", linestyle=\"-\", color=\"blue\")\n",
    "plt.title(\"Trade-off Between Embedding Size and Search Speed\")\n",
    "plt.xlabel(\"Embedding Size\")\n",
    "plt.ylabel(\"Time Taken (seconds)\")\n",
    "plt.grid(True)\n",
    "\n",
    "\n",
    "# Display the graph\n",
    "plt.show()"
   ]
  },
  {
   "cell_type": "code",
   "execution_count": null,
   "metadata": {
    "id": "ZBhz8hyVxv3y"
   },
   "outputs": [],
   "source": []
  }
 ],
 "metadata": {
  "accelerator": "GPU",
  "colab": {
   "gpuType": "T4",
   "provenance": []
  },
  "kernelspec": {
   "display_name": "Python 3",
   "name": "python3"
  },
  "language_info": {
   "codemirror_mode": {
    "name": "ipython",
    "version": 3
   },
   "file_extension": ".py",
   "mimetype": "text/x-python",
   "name": "python",
   "nbconvert_exporter": "python",
   "pygments_lexer": "ipython3",
   "version": "3.11.5"
  },
  "widgets": {
   "application/vnd.jupyter.widget-state+json": {
    "053133cecba64a29aa69b11fb34a8cda": {
     "model_module": "@jupyter-widgets/base",
     "model_module_version": "1.2.0",
     "model_name": "LayoutModel",
     "state": {
      "_model_module": "@jupyter-widgets/base",
      "_model_module_version": "1.2.0",
      "_model_name": "LayoutModel",
      "_view_count": null,
      "_view_module": "@jupyter-widgets/base",
      "_view_module_version": "1.2.0",
      "_view_name": "LayoutView",
      "align_content": null,
      "align_items": null,
      "align_self": null,
      "border": null,
      "bottom": null,
      "display": null,
      "flex": null,
      "flex_flow": null,
      "grid_area": null,
      "grid_auto_columns": null,
      "grid_auto_flow": null,
      "grid_auto_rows": null,
      "grid_column": null,
      "grid_gap": null,
      "grid_row": null,
      "grid_template_areas": null,
      "grid_template_columns": null,
      "grid_template_rows": null,
      "height": null,
      "justify_content": null,
      "justify_items": null,
      "left": null,
      "margin": null,
      "max_height": null,
      "max_width": null,
      "min_height": null,
      "min_width": null,
      "object_fit": null,
      "object_position": null,
      "order": null,
      "overflow": null,
      "overflow_x": null,
      "overflow_y": null,
      "padding": null,
      "right": null,
      "top": null,
      "visibility": null,
      "width": null
     }
    },
    "0ae53454920d48b3b5cf408928de0999": {
     "model_module": "@jupyter-widgets/controls",
     "model_module_version": "1.5.0",
     "model_name": "DescriptionStyleModel",
     "state": {
      "_model_module": "@jupyter-widgets/controls",
      "_model_module_version": "1.5.0",
      "_model_name": "DescriptionStyleModel",
      "_view_count": null,
      "_view_module": "@jupyter-widgets/base",
      "_view_module_version": "1.2.0",
      "_view_name": "StyleView",
      "description_width": ""
     }
    },
    "0b48227019854b5da41e2195448e78b8": {
     "model_module": "@jupyter-widgets/controls",
     "model_module_version": "1.5.0",
     "model_name": "HTMLModel",
     "state": {
      "_dom_classes": [],
      "_model_module": "@jupyter-widgets/controls",
      "_model_module_version": "1.5.0",
      "_model_name": "HTMLModel",
      "_view_count": null,
      "_view_module": "@jupyter-widgets/controls",
      "_view_module_version": "1.5.0",
      "_view_name": "HTMLView",
      "description": "",
      "description_tooltip": null,
      "layout": "IPY_MODEL_c42cf9c9f04f4031b8e828c478c6de5c",
      "placeholder": "​",
      "style": "IPY_MODEL_0ae53454920d48b3b5cf408928de0999",
      "value": " 63/63 [00:04&lt;00:00, 28.91it/s]"
     }
    },
    "2011e7b2cf0847d9848fddfa7e45879a": {
     "model_module": "@jupyter-widgets/base",
     "model_module_version": "1.2.0",
     "model_name": "LayoutModel",
     "state": {
      "_model_module": "@jupyter-widgets/base",
      "_model_module_version": "1.2.0",
      "_model_name": "LayoutModel",
      "_view_count": null,
      "_view_module": "@jupyter-widgets/base",
      "_view_module_version": "1.2.0",
      "_view_name": "LayoutView",
      "align_content": null,
      "align_items": null,
      "align_self": null,
      "border": null,
      "bottom": null,
      "display": null,
      "flex": null,
      "flex_flow": null,
      "grid_area": null,
      "grid_auto_columns": null,
      "grid_auto_flow": null,
      "grid_auto_rows": null,
      "grid_column": null,
      "grid_gap": null,
      "grid_row": null,
      "grid_template_areas": null,
      "grid_template_columns": null,
      "grid_template_rows": null,
      "height": null,
      "justify_content": null,
      "justify_items": null,
      "left": null,
      "margin": null,
      "max_height": null,
      "max_width": null,
      "min_height": null,
      "min_width": null,
      "object_fit": null,
      "object_position": null,
      "order": null,
      "overflow": null,
      "overflow_x": null,
      "overflow_y": null,
      "padding": null,
      "right": null,
      "top": null,
      "visibility": null,
      "width": null
     }
    },
    "233ceb28aa574caf87f41817f614391e": {
     "model_module": "@jupyter-widgets/controls",
     "model_module_version": "1.5.0",
     "model_name": "DescriptionStyleModel",
     "state": {
      "_model_module": "@jupyter-widgets/controls",
      "_model_module_version": "1.5.0",
      "_model_name": "DescriptionStyleModel",
      "_view_count": null,
      "_view_module": "@jupyter-widgets/base",
      "_view_module_version": "1.2.0",
      "_view_name": "StyleView",
      "description_width": ""
     }
    },
    "35e46eb78ebf4577b2d3d3928381a98b": {
     "model_module": "@jupyter-widgets/controls",
     "model_module_version": "1.5.0",
     "model_name": "HTMLModel",
     "state": {
      "_dom_classes": [],
      "_model_module": "@jupyter-widgets/controls",
      "_model_module_version": "1.5.0",
      "_model_name": "HTMLModel",
      "_view_count": null,
      "_view_module": "@jupyter-widgets/controls",
      "_view_module_version": "1.5.0",
      "_view_name": "HTMLView",
      "description": "",
      "description_tooltip": null,
      "layout": "IPY_MODEL_2011e7b2cf0847d9848fddfa7e45879a",
      "placeholder": "​",
      "style": "IPY_MODEL_233ceb28aa574caf87f41817f614391e",
      "value": "Batches: 100%"
     }
    },
    "6fc42b501d7f4638a3a7827530a3633d": {
     "model_module": "@jupyter-widgets/controls",
     "model_module_version": "1.5.0",
     "model_name": "ProgressStyleModel",
     "state": {
      "_model_module": "@jupyter-widgets/controls",
      "_model_module_version": "1.5.0",
      "_model_name": "ProgressStyleModel",
      "_view_count": null,
      "_view_module": "@jupyter-widgets/base",
      "_view_module_version": "1.2.0",
      "_view_name": "StyleView",
      "bar_color": null,
      "description_width": ""
     }
    },
    "a09a705ef7f745cc830e42ce96307d3d": {
     "model_module": "@jupyter-widgets/controls",
     "model_module_version": "1.5.0",
     "model_name": "FloatProgressModel",
     "state": {
      "_dom_classes": [],
      "_model_module": "@jupyter-widgets/controls",
      "_model_module_version": "1.5.0",
      "_model_name": "FloatProgressModel",
      "_view_count": null,
      "_view_module": "@jupyter-widgets/controls",
      "_view_module_version": "1.5.0",
      "_view_name": "ProgressView",
      "bar_style": "success",
      "description": "",
      "description_tooltip": null,
      "layout": "IPY_MODEL_dbe5483e94ed4905a52bc24a6bbb1afb",
      "max": 63,
      "min": 0,
      "orientation": "horizontal",
      "style": "IPY_MODEL_6fc42b501d7f4638a3a7827530a3633d",
      "value": 63
     }
    },
    "a4c9d1c29e5746cc9a4424800c98ecaf": {
     "model_module": "@jupyter-widgets/controls",
     "model_module_version": "1.5.0",
     "model_name": "HBoxModel",
     "state": {
      "_dom_classes": [],
      "_model_module": "@jupyter-widgets/controls",
      "_model_module_version": "1.5.0",
      "_model_name": "HBoxModel",
      "_view_count": null,
      "_view_module": "@jupyter-widgets/controls",
      "_view_module_version": "1.5.0",
      "_view_name": "HBoxView",
      "box_style": "",
      "children": [
       "IPY_MODEL_35e46eb78ebf4577b2d3d3928381a98b",
       "IPY_MODEL_a09a705ef7f745cc830e42ce96307d3d",
       "IPY_MODEL_0b48227019854b5da41e2195448e78b8"
      ],
      "layout": "IPY_MODEL_053133cecba64a29aa69b11fb34a8cda"
     }
    },
    "c42cf9c9f04f4031b8e828c478c6de5c": {
     "model_module": "@jupyter-widgets/base",
     "model_module_version": "1.2.0",
     "model_name": "LayoutModel",
     "state": {
      "_model_module": "@jupyter-widgets/base",
      "_model_module_version": "1.2.0",
      "_model_name": "LayoutModel",
      "_view_count": null,
      "_view_module": "@jupyter-widgets/base",
      "_view_module_version": "1.2.0",
      "_view_name": "LayoutView",
      "align_content": null,
      "align_items": null,
      "align_self": null,
      "border": null,
      "bottom": null,
      "display": null,
      "flex": null,
      "flex_flow": null,
      "grid_area": null,
      "grid_auto_columns": null,
      "grid_auto_flow": null,
      "grid_auto_rows": null,
      "grid_column": null,
      "grid_gap": null,
      "grid_row": null,
      "grid_template_areas": null,
      "grid_template_columns": null,
      "grid_template_rows": null,
      "height": null,
      "justify_content": null,
      "justify_items": null,
      "left": null,
      "margin": null,
      "max_height": null,
      "max_width": null,
      "min_height": null,
      "min_width": null,
      "object_fit": null,
      "object_position": null,
      "order": null,
      "overflow": null,
      "overflow_x": null,
      "overflow_y": null,
      "padding": null,
      "right": null,
      "top": null,
      "visibility": null,
      "width": null
     }
    },
    "dbe5483e94ed4905a52bc24a6bbb1afb": {
     "model_module": "@jupyter-widgets/base",
     "model_module_version": "1.2.0",
     "model_name": "LayoutModel",
     "state": {
      "_model_module": "@jupyter-widgets/base",
      "_model_module_version": "1.2.0",
      "_model_name": "LayoutModel",
      "_view_count": null,
      "_view_module": "@jupyter-widgets/base",
      "_view_module_version": "1.2.0",
      "_view_name": "LayoutView",
      "align_content": null,
      "align_items": null,
      "align_self": null,
      "border": null,
      "bottom": null,
      "display": null,
      "flex": null,
      "flex_flow": null,
      "grid_area": null,
      "grid_auto_columns": null,
      "grid_auto_flow": null,
      "grid_auto_rows": null,
      "grid_column": null,
      "grid_gap": null,
      "grid_row": null,
      "grid_template_areas": null,
      "grid_template_columns": null,
      "grid_template_rows": null,
      "height": null,
      "justify_content": null,
      "justify_items": null,
      "left": null,
      "margin": null,
      "max_height": null,
      "max_width": null,
      "min_height": null,
      "min_width": null,
      "object_fit": null,
      "object_position": null,
      "order": null,
      "overflow": null,
      "overflow_x": null,
      "overflow_y": null,
      "padding": null,
      "right": null,
      "top": null,
      "visibility": null,
      "width": null
     }
    }
   }
  }
 },
 "nbformat": 4,
 "nbformat_minor": 0
}
