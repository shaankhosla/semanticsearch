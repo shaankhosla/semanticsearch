{
 "cells": [
  {
   "cell_type": "code",
   "execution_count": 7,
   "metadata": {
    "executionInfo": {
     "elapsed": 31685,
     "status": "ok",
     "timestamp": 1702609403622,
     "user": {
      "displayName": "Shaan Khosla",
      "userId": "03281704052357658651"
     },
     "user_tz": 300
    },
    "id": "L7ww6Lkqarb_"
   },
   "outputs": [],
   "source": [
    "import requests\n",
    "\n",
    "!pip install langchain\n",
    "from langchain.text_splitter import RecursiveCharacterTextSplitter"
   ]
  },
  {
   "cell_type": "code",
   "execution_count": 2,
   "metadata": {
    "executionInfo": {
     "elapsed": 579,
     "status": "ok",
     "timestamp": 1702609251261,
     "user": {
      "displayName": "Shaan Khosla",
      "userId": "03281704052357658651"
     },
     "user_tz": 300
    },
    "id": "_pyQ4wZHazwj"
   },
   "outputs": [],
   "source": [
    "response = requests.get(\"https://www.gutenberg.org/cache/epub/72392/pg72392.txt\")\n",
    "book_text = response.text"
   ]
  },
  {
   "cell_type": "code",
   "execution_count": 3,
   "metadata": {
    "colab": {
     "base_uri": "https://localhost:8080/",
     "height": 55
    },
    "executionInfo": {
     "elapsed": 4,
     "status": "ok",
     "timestamp": 1702609257288,
     "user": {
      "displayName": "Shaan Khosla",
      "userId": "03281704052357658651"
     },
     "user_tz": 300
    },
    "id": "Z3KLleqMa2ga",
    "outputId": "4076f6f6-9221-4f58-eb40-7b95cdc04db3"
   },
   "outputs": [
    {
     "data": {
      "application/vnd.google.colaboratory.intrinsic+json": {
       "type": "string"
      },
      "text/plain": [
       "'\\ufeffThe Project Gutenberg eBook of The inverted pyramid\\r\\n    \\r\\nThis ebook is for the use of anyone anywhere in the United States and\\r\\nmost other parts of the world at no cost and with almost no restricti'"
      ]
     },
     "execution_count": 3,
     "metadata": {},
     "output_type": "execute_result"
    }
   ],
   "source": [
    "book_text[:200]"
   ]
  },
  {
   "cell_type": "code",
   "execution_count": 19,
   "metadata": {
    "colab": {
     "base_uri": "https://localhost:8080/"
    },
    "executionInfo": {
     "elapsed": 4,
     "status": "ok",
     "timestamp": 1702609645059,
     "user": {
      "displayName": "Shaan Khosla",
      "userId": "03281704052357658651"
     },
     "user_tz": 300
    },
    "id": "dRcE-hK0a32w",
    "outputId": "2b8253b1-1b31-4dbe-9a89-1a72250a9007"
   },
   "outputs": [
    {
     "name": "stdout",
     "output_type": "stream",
     "text": [
      "  _All rights reserved_\r\n",
      "------------------------------\n",
      "\r\n",
      "------------------------------\n",
      "  Published January, 1924\r\n"
     ]
    }
   ],
   "source": [
    "newline_chunks = book_text.split(\"\\n\")\n",
    "print(newline_chunks[50])\n",
    "print(\"-\" * 30)\n",
    "print(newline_chunks[51])\n",
    "print(\"-\" * 30)\n",
    "print(newline_chunks[52])"
   ]
  },
  {
   "cell_type": "code",
   "execution_count": 18,
   "metadata": {
    "colab": {
     "base_uri": "https://localhost:8080/"
    },
    "executionInfo": {
     "elapsed": 3,
     "status": "ok",
     "timestamp": 1702609554954,
     "user": {
      "displayName": "Shaan Khosla",
      "userId": "03281704052357658651"
     },
     "user_tz": 300
    },
    "id": "1G4W3wPebMjO",
    "outputId": "016420ac-7cdd-449a-cb2a-28d1ded74b5c"
   },
   "outputs": [
    {
     "name": "stdout",
     "output_type": "stream",
     "text": [
      "But as he turned the corner he came upon a girl leaning on a parasol\r\n",
      "and staring at some letters cut in a massive cornerstone where the\r\n",
      "thick foundation rose out of the earth.\r\n",
      "\r\n",
      "\"Oh, Rod,\" she said.  \"Do answer about a million questions for me,\r\n",
      "please.\"\r\n",
      "\r\n",
      "\"Have you got a list?\" he asked.\r\n",
      "\r\n",
      "\"A list?  Oh, no,\" she chuckled.  \"I'm still on an even keel.\"\r\n",
      "\r\n",
      "\"Nautically all right,\" Rod smiled.\n",
      "------------------------------\n",
      "\"Nautically all right,\" Rod smiled.\r\n",
      "\r\n",
      "He didn't know Laska Wall very well.  He hadn't seen much of her.\r\n",
      "She had only been at Hawk's Nest three days.  Prior to that he had\r\n",
      "heard more or less about the Walls.  They were people who had lately\r\n",
      "begun to cut quite a figure in Vancouver society.  His brothers knew\r\n",
      "them.  Both Phil and Grove had pretty well monopolized Laska since\n",
      "------------------------------\n",
      "her arrival here.  But what Rod had seen of her he liked.  She was a\r\n",
      "quiet girl, with a slow smile that wonderfully transformed a piquant,\r\n",
      "delicately tinted face.  Rod looked at her now admiringly.  He\r\n",
      "wondered if Isabel, the pretty, bisque-doll creature whose dainty\r\n",
      "clothes Mary Thorn had remarked, would be like that when she was\n"
     ]
    }
   ],
   "source": [
    "text_splitter = RecursiveCharacterTextSplitter(\n",
    "    chunk_size=400,\n",
    "    chunk_overlap=50,\n",
    "    length_function=len,\n",
    "    is_separator_regex=False,\n",
    ")\n",
    "chunks = text_splitter.split_text(book_text)\n",
    "\n",
    "print(chunks[50])\n",
    "print(\"-\" * 30)\n",
    "print(chunks[51])\n",
    "print(\"-\" * 30)\n",
    "print(chunks[52])"
   ]
  },
  {
   "cell_type": "code",
   "execution_count": null,
   "metadata": {
    "id": "ya9oKBdgbdy1"
   },
   "outputs": [],
   "source": []
  }
 ],
 "metadata": {
  "colab": {
   "authorship_tag": "ABX9TyPBK7vFLIs4Jhrgap8J3/mR",
   "provenance": []
  },
  "kernelspec": {
   "display_name": "Python 3",
   "name": "python3"
  },
  "language_info": {
   "name": "python"
  }
 },
 "nbformat": 4,
 "nbformat_minor": 0
}
