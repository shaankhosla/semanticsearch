{
 "cells": [
  {
   "cell_type": "code",
   "execution_count": 1,
   "metadata": {
    "id": "7EpGFpF1XFJc"
   },
   "outputs": [],
   "source": [
    "import numpy as np\n",
    "from sklearn.cluster import KMeans"
   ]
  },
  {
   "cell_type": "code",
   "execution_count": 4,
   "metadata": {
    "id": "FGj3o1ZYXIez"
   },
   "outputs": [],
   "source": [
    "class ProductQuantizer:\n",
    "    def __init__(self, n_subvectors, n_clusters):\n",
    "        \"\"\"\n",
    "        Initialize the Product Quantizer.\n",
    "        :param n_subvectors: Number of subvectors to divide each vector.\n",
    "        :param n_clusters: Number of clusters for quantization in each subvector.\n",
    "        \"\"\"\n",
    "        self.n_subvectors = n_subvectors\n",
    "        self.n_clusters = n_clusters\n",
    "        self.kmeans = [KMeans(n_clusters=n_clusters) for _ in range(n_subvectors)]\n",
    "\n",
    "    def fit(self, data):\n",
    "        \"\"\"\n",
    "        Fit the model on the data.\n",
    "        :param data: Array of shape (n_samples, n_features).\n",
    "        \"\"\"\n",
    "        subvector_len = data.shape[1] // self.n_subvectors\n",
    "        for i in range(self.n_subvectors):\n",
    "            # Extract subvectors and fit KMeans\n",
    "            sub_data = data[:, i * subvector_len : (i + 1) * subvector_len]\n",
    "            self.kmeans[i].fit(sub_data)\n",
    "\n",
    "    def quantize(self, data):\n",
    "        \"\"\"\n",
    "        Quantize the data using the fitted model.\n",
    "        :param data: Array of shape (n_samples, n_features).\n",
    "        :return: Quantized data as indices of centroids.\n",
    "        \"\"\"\n",
    "        subvector_len = data.shape[1] // self.n_subvectors\n",
    "        quantized_data = []\n",
    "        for i in range(self.n_subvectors):\n",
    "            # Extract subvectors and predict the closest centroid\n",
    "            sub_data = data[:, i * subvector_len : (i + 1) * subvector_len]\n",
    "            quantized_data.append(self.kmeans[i].predict(sub_data))\n",
    "        return np.array(quantized_data).T\n",
    "\n",
    "    def inverse_transform(self, quantized_data):\n",
    "        \"\"\"\n",
    "        Convert quantized data back to approximate vectors.\n",
    "        :param quantized_data: Array of quantized data (indices of centroids).\n",
    "        :return: Approximate original vectors.\n",
    "        \"\"\"\n",
    "        subvector_len = self.kmeans[0].cluster_centers_.shape[1]\n",
    "        approx_data = np.zeros(\n",
    "            (quantized_data.shape[0], subvector_len * self.n_subvectors)\n",
    "        )\n",
    "        for i in range(self.n_subvectors):\n",
    "            centroids = self.kmeans[i].cluster_centers_[quantized_data[:, i]]\n",
    "            approx_data[:, i * subvector_len : (i + 1) * subvector_len] = centroids\n",
    "        return approx_data"
   ]
  },
  {
   "cell_type": "code",
   "execution_count": 5,
   "metadata": {
    "id": "RFMgzGnqXLFl"
   },
   "outputs": [],
   "source": [
    "# Generate sample data\n",
    "\n",
    "np.random.seed(0)\n",
    "data = np.random.rand(100, 64)  # 100 samples, 64-dimensional vectors"
   ]
  },
  {
   "cell_type": "code",
   "execution_count": 6,
   "metadata": {
    "colab": {
     "base_uri": "https://localhost:8080/"
    },
    "id": "cJQUt2o-VBv8",
    "outputId": "fda0c20a-a1fa-4092-d4cc-cc3cce15eeb2"
   },
   "outputs": [
    {
     "name": "stderr",
     "output_type": "stream",
     "text": [
      "/usr/local/lib/python3.10/dist-packages/sklearn/cluster/_kmeans.py:870: FutureWarning: The default value of `n_init` will change from 10 to 'auto' in 1.4. Set the value of `n_init` explicitly to suppress the warning\n",
      "  warnings.warn(\n",
      "/usr/local/lib/python3.10/dist-packages/sklearn/cluster/_kmeans.py:870: FutureWarning: The default value of `n_init` will change from 10 to 'auto' in 1.4. Set the value of `n_init` explicitly to suppress the warning\n",
      "  warnings.warn(\n",
      "/usr/local/lib/python3.10/dist-packages/sklearn/cluster/_kmeans.py:870: FutureWarning: The default value of `n_init` will change from 10 to 'auto' in 1.4. Set the value of `n_init` explicitly to suppress the warning\n",
      "  warnings.warn(\n",
      "/usr/local/lib/python3.10/dist-packages/sklearn/cluster/_kmeans.py:870: FutureWarning: The default value of `n_init` will change from 10 to 'auto' in 1.4. Set the value of `n_init` explicitly to suppress the warning\n",
      "  warnings.warn(\n",
      "/usr/local/lib/python3.10/dist-packages/sklearn/cluster/_kmeans.py:870: FutureWarning: The default value of `n_init` will change from 10 to 'auto' in 1.4. Set the value of `n_init` explicitly to suppress the warning\n",
      "  warnings.warn(\n",
      "/usr/local/lib/python3.10/dist-packages/sklearn/cluster/_kmeans.py:870: FutureWarning: The default value of `n_init` will change from 10 to 'auto' in 1.4. Set the value of `n_init` explicitly to suppress the warning\n",
      "  warnings.warn(\n",
      "/usr/local/lib/python3.10/dist-packages/sklearn/cluster/_kmeans.py:870: FutureWarning: The default value of `n_init` will change from 10 to 'auto' in 1.4. Set the value of `n_init` explicitly to suppress the warning\n",
      "  warnings.warn(\n",
      "/usr/local/lib/python3.10/dist-packages/sklearn/cluster/_kmeans.py:870: FutureWarning: The default value of `n_init` will change from 10 to 'auto' in 1.4. Set the value of `n_init` explicitly to suppress the warning\n",
      "  warnings.warn(\n"
     ]
    },
    {
     "name": "stdout",
     "output_type": "stream",
     "text": [
      "Original data (first vector): [0.5488135  0.71518937 0.60276338 0.54488318 0.4236548  0.64589411\n",
      " 0.43758721 0.891773   0.96366276 0.38344152 0.79172504 0.52889492\n",
      " 0.56804456 0.92559664 0.07103606 0.0871293  0.0202184  0.83261985\n",
      " 0.77815675 0.87001215 0.97861834 0.79915856 0.46147936 0.78052918\n",
      " 0.11827443 0.63992102 0.14335329 0.94466892 0.52184832 0.41466194\n",
      " 0.26455561 0.77423369 0.45615033 0.56843395 0.0187898  0.6176355\n",
      " 0.61209572 0.616934   0.94374808 0.6818203  0.3595079  0.43703195\n",
      " 0.6976312  0.06022547 0.66676672 0.67063787 0.21038256 0.1289263\n",
      " 0.31542835 0.36371077 0.57019677 0.43860151 0.98837384 0.10204481\n",
      " 0.20887676 0.16130952 0.65310833 0.2532916  0.46631077 0.24442559\n",
      " 0.15896958 0.11037514 0.65632959 0.13818295]\n",
      "Compressed data (first vector): [0 6 6 4 2 2 3 8]\n",
      "Approximated data (first vector): [0.54019654 0.36485555 0.80442656 0.52945912 0.26097166 0.43403487\n",
      " 0.35285817 0.79455641 0.5989435  0.21066257 0.73069621 0.33785665\n",
      " 0.68675651 0.60267202 0.57986277 0.37160765 0.21162824 0.87089306\n",
      " 0.59306895 0.63841958 0.79780639 0.57421621 0.56062129 0.51786635\n",
      " 0.18948159 0.69750145 0.27819821 0.56544019 0.49665064 0.25799192\n",
      " 0.19297701 0.41691968 0.26339078 0.26005451 0.34358506 0.55870678\n",
      " 0.74224377 0.57784322 0.79144145 0.52381845 0.61077506 0.61437639\n",
      " 0.32514294 0.19577561 0.56556666 0.63606577 0.18373289 0.39832537\n",
      " 0.31965271 0.4305464  0.79324014 0.57142561 0.58212128 0.22830984\n",
      " 0.64554358 0.29054842 0.8200301  0.66880309 0.49622709 0.46668542\n",
      " 0.25961788 0.46590464 0.69995335 0.24137759]\n"
     ]
    }
   ],
   "source": [
    "pq = ProductQuantizer(\n",
    "    n_subvectors=8, n_clusters=10\n",
    ")  # Divide into 8 subvectors, 10 clusters each\n",
    "pq.fit(data)\n",
    "quantized_data = pq.quantize(data)\n",
    "approx_data = pq.inverse_transform(quantized_data)\n",
    "\n",
    "# Demonstrate the approximation\n",
    "print(\"Original data (first vector):\", data[0])\n",
    "print(\"Compressed data (first vector):\", quantized_data[0])\n",
    "print(\"Approximated data (first vector):\", approx_data[0])"
   ]
  },
  {
   "cell_type": "code",
   "execution_count": 7,
   "metadata": {
    "id": "5s3QAzyfXNSx"
   },
   "outputs": [],
   "source": [
    "# Nearest neighbor search using quantized vectors\n",
    "def nearest_neighbor(query, quantized_data, pq):\n",
    "    approx_query = pq.inverse_transform(pq.quantize(query.reshape(1, -1)))[0]\n",
    "    distances = np.linalg.norm(approx_data - approx_query, axis=1)\n",
    "    return np.argmin(distances)"
   ]
  },
  {
   "cell_type": "code",
   "execution_count": 8,
   "metadata": {
    "colab": {
     "base_uri": "https://localhost:8080/"
    },
    "id": "beowe90IXPRp",
    "outputId": "9c97645d-17f7-432d-ca08-9204c898ca15"
   },
   "outputs": [
    {
     "name": "stdout",
     "output_type": "stream",
     "text": [
      "Nearest neighbor index for the query: 58\n"
     ]
    }
   ],
   "source": [
    "# Example query\n",
    "query = np.random.rand(64)\n",
    "nn_index = nearest_neighbor(query, quantized_data, pq)\n",
    "print(f\"Nearest neighbor index for the query: {nn_index}\")"
   ]
  },
  {
   "cell_type": "code",
   "execution_count": null,
   "metadata": {
    "id": "pfCo3tEgVRcG"
   },
   "outputs": [],
   "source": []
  }
 ],
 "metadata": {
  "colab": {
   "provenance": []
  },
  "kernelspec": {
   "display_name": "Python 3",
   "name": "python3"
  },
  "language_info": {
   "name": "python"
  }
 },
 "nbformat": 4,
 "nbformat_minor": 0
}
