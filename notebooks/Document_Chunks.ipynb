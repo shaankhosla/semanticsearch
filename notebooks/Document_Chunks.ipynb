{
  "cells": [
    {
      "cell_type": "markdown",
      "metadata": {},
      "source": [
        "<a target=\"_blank\" href=\"https://colab.research.google.com/github/shaankhosla/semanticsearch/blob/main/notebooks/Document_Chunks.ipynb\">\n",
        "  <img src=\"https://colab.research.google.com/assets/colab-badge.svg\" alt=\"Open In Colab\"/>\n",
        "</a>\n"
      ]
    },
    {
      "cell_type": "code",
      "execution_count": 2,
      "metadata": {
        "id": "L7ww6Lkqarb_"
      },
      "outputs": [],
      "source": [
        "%%capture\n",
        "\n",
        "%pip install langchain\n",
        "import requests\n",
        "from langchain.text_splitter import RecursiveCharacterTextSplitter"
      ]
    },
    {
      "cell_type": "code",
      "execution_count": 3,
      "metadata": {
        "id": "_pyQ4wZHazwj"
      },
      "outputs": [],
      "source": [
        "response = requests.get(\"https://www.gutenberg.org/cache/epub/72392/pg72392.txt\")\n",
        "book_text = response.text"
      ]
    },
    {
      "cell_type": "code",
      "execution_count": 4,
      "metadata": {
        "colab": {
          "base_uri": "https://localhost:8080/",
          "height": 54
        },
        "id": "Z3KLleqMa2ga",
        "outputId": "4998792c-c8d2-496e-8a45-5a4209f8d32e"
      },
      "outputs": [
        {
          "data": {
            "application/vnd.google.colaboratory.intrinsic+json": {
              "type": "string"
            },
            "text/plain": [
              "'\\ufeffThe Project Gutenberg eBook of The inverted pyramid\\r\\n    \\r\\nThis ebook is for the use of anyone anywhere in the United States and\\r\\nmost other parts of the world at no cost and with almost no restricti'"
            ]
          },
          "execution_count": 4,
          "metadata": {},
          "output_type": "execute_result"
        }
      ],
      "source": [
        "# First 200 characters\n",
        "\n",
        "book_text[:200]"
      ]
    },
    {
      "cell_type": "code",
      "execution_count": 9,
      "metadata": {
        "colab": {
          "base_uri": "https://localhost:8080/"
        },
        "id": "dRcE-hK0a32w",
        "outputId": "7de14707-9253-4fe2-b28e-270b30b6a43e"
      },
      "outputs": [
        {
          "name": "stdout",
          "output_type": "stream",
          "text": [
            "  _All rights reserved_\r\n",
            "------------------------------\n",
            "\r\n",
            "------------------------------\n",
            "  Published January, 1924\r\n",
            "------------------------------\n",
            "\r\n",
            "------------------------------\n",
            "\r\n"
          ]
        }
      ],
      "source": [
        "# Naive document chunking\n",
        "\n",
        "newline_chunks = book_text.split(\"\\n\")\n",
        "print(newline_chunks[50])\n",
        "print(\"-\" * 30)\n",
        "print(newline_chunks[51])\n",
        "print(\"-\" * 30)\n",
        "print(newline_chunks[52])\n",
        "print(\"-\" * 30)\n",
        "print(newline_chunks[53])\n",
        "print(\"-\" * 30)\n",
        "print(newline_chunks[54])"
      ]
    },
    {
      "cell_type": "code",
      "execution_count": 10,
      "metadata": {
        "colab": {
          "base_uri": "https://localhost:8080/"
        },
        "id": "1G4W3wPebMjO",
        "outputId": "fcea4c47-cd74-428b-c072-6c581d3907c0"
      },
      "outputs": [
        {
          "name": "stdout",
          "output_type": "stream",
          "text": [
            "arched over the hurrying tide and the encircling mountains.  Vast\r\n",
            "peaks, from the green-mantled cones near by, to distant pinnacles\r\n",
            "lifting far above timber line and capped with everlasting white.\r\n",
            "\r\n",
            "Rod did not consciously apply his intellect to considering his\r\n",
            "environment.  He felt it.  It satisfied him, filled him with an\n",
            "------------------------------\n",
            "environment.  He felt it.  It satisfied him, filled him with an\r\n",
            "indefinable sense of well-being.  His people for a hundred years had\r\n",
            "filled their eyes with that and found it good.  Against this\r\n",
            "background they had lived and loved and died.  No matter.  Rod,\r\n",
            "floating lazily in his canoe, was not looking backward,\r\n",
            "introspectively considering if he were the sum of five generations,\n",
            "------------------------------\n",
            "introspectively considering if he were the sum of five generations,\r\n",
            "each of which had contributed its quota to subduing a wild land to\r\n",
            "its use and need, to its ambition as well as to its necessity, and\r\n",
            "becoming one at last with that portion of the earth the first\r\n",
            "Roderick Norquay had made his own and handed to his sons.\r\n",
            "\r\n",
            "No, eighteen mercifully wears invisible blinkers, and Rod was no\n"
          ]
        }
      ],
      "source": [
        "# Recursive text splitting with chunk overlap\n",
        "\n",
        "text_splitter = RecursiveCharacterTextSplitter(\n",
        "    chunk_size=400,\n",
        "    chunk_overlap=100,\n",
        "    length_function=len,\n",
        "    is_separator_regex=False,\n",
        ")\n",
        "chunks = text_splitter.split_text(book_text)\n",
        "\n",
        "print(chunks[50])\n",
        "print(\"-\" * 30)\n",
        "print(chunks[51])\n",
        "print(\"-\" * 30)\n",
        "print(chunks[52])"
      ]
    }
  ],
  "metadata": {
    "colab": {
      "provenance": []
    },
    "kernelspec": {
      "display_name": "Python 3",
      "name": "python3"
    },
    "language_info": {
      "name": "python"
    }
  },
  "nbformat": 4,
  "nbformat_minor": 0
}
